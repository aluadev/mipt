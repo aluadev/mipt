{
 "cells": [
  {
   "cell_type": "code",
   "execution_count": 1,
   "id": "30ff0a7a",
   "metadata": {},
   "outputs": [],
   "source": [
    "import threading\n",
    "import time\n",
    "from tqdm import tqdm\n"
   ]
  },
  {
   "cell_type": "code",
   "execution_count": 2,
   "id": "4ea8eda0",
   "metadata": {},
   "outputs": [],
   "source": [
    "# train model - stub\n",
    "def _trainModel():\n",
    "    time.sleep(3)\n",
    "    return"
   ]
  },
  {
   "cell_type": "code",
   "execution_count": 3,
   "id": "035c9027",
   "metadata": {},
   "outputs": [],
   "source": [
    "# assume we loop 10 times\n",
    "epochs = 10"
   ]
  },
  {
   "cell_type": "code",
   "execution_count": 4,
   "id": "39709521",
   "metadata": {},
   "outputs": [
    {
     "name": "stderr",
     "output_type": "stream",
     "text": [
      "100%|███████████████████████████████████████████| 10/10 [00:30<00:00,  3.00s/it]\n"
     ]
    }
   ],
   "source": [
    "# without multithreading\n",
    "# use with for tqdm to properly shut tqdm down if exception appears\n",
    "with tqdm(range(epochs)) as epochLoop:\n",
    "    for _ in epochLoop:\n",
    "    # trainModel\n",
    "        _trainModel()"
   ]
  },
  {
   "cell_type": "code",
   "execution_count": 5,
   "id": "c37b7474",
   "metadata": {},
   "outputs": [],
   "source": [
    "class TrainModel (threading.Thread):\n",
    "    def __init__(self, data):\n",
    "        threading.Thread.__init__(self)\n",
    "        self.data = data\n",
    "    def run(self):\n",
    "        # return model loss\n",
    "        self._return = _trainModel()    \n",
    "    def join(self):\n",
    "        threading.Thread.join(self)\n",
    "        return self._return\n"
   ]
  },
  {
   "cell_type": "code",
   "execution_count": 7,
   "id": "bc5cfac0",
   "metadata": {},
   "outputs": [
    {
     "name": "stderr",
     "output_type": "stream",
     "text": [
      "100%|███████████████████████████████████████████| 10/10 [00:30<00:00,  3.01s/it]\n"
     ]
    }
   ],
   "source": [
    "# with multithreading\n",
    "# use with for tqdm to properly shut tqdm down if exception appears\n",
    "with tqdm(range(epochs)) as epochLoop:\n",
    "    for _ in epochLoop:\n",
    "        \n",
    "    # trainModel\n",
    "        trainThread1 = TrainModel(None)\n",
    "        trainThread1.start()\n",
    "        \n",
    "        trainThread2 = TrainModel(None)\n",
    "        trainThread2.start()\n",
    "        \n",
    "        trainThread3 = TrainModel(None)\n",
    "        trainThread3.start()\n",
    "        \n",
    "        trainThread4 = TrainModel(None)\n",
    "        trainThread4.start()\n",
    "    \n",
    "        trainThread5 = TrainModel(None)\n",
    "        trainThread5.start()\n",
    "    # only continue if all threads are done\n",
    "        modelLoss1 = trainThread1.join()\n",
    "        modelLoss2 = trainThread2.join()\n",
    "        modelLoss3 = trainThread3.join()\n",
    "        modelLoss4 = trainThread4.join()\n",
    "        modelLoss5 = trainThread5.join()"
   ]
  },
  {
   "cell_type": "code",
   "execution_count": null,
   "id": "97327b11",
   "metadata": {},
   "outputs": [],
   "source": []
  }
 ],
 "metadata": {
  "kernelspec": {
   "display_name": "Python 3 (ipykernel)",
   "language": "python",
   "name": "python3"
  },
  "language_info": {
   "codemirror_mode": {
    "name": "ipython",
    "version": 3
   },
   "file_extension": ".py",
   "mimetype": "text/x-python",
   "name": "python",
   "nbconvert_exporter": "python",
   "pygments_lexer": "ipython3",
   "version": "3.9.7"
  }
 },
 "nbformat": 4,
 "nbformat_minor": 5
}
